{
 "cells": [
  {
   "cell_type": "markdown",
   "metadata": {},
   "source": [
    "# Tesco Data Scientiest Test"
   ]
  },
  {
   "cell_type": "code",
   "execution_count": 60,
   "metadata": {
    "collapsed": true
   },
   "outputs": [],
   "source": [
    "import pandas as pd\n",
    "import numpy as np\n",
    "from sklearn.ensemble import RandomForestClassifier\n",
    "from sklearn.model_selection import train_test_split\n",
    "from sklearn.metrics import roc_curve, confusion_matrix, auc\n",
    "import matplotlib.pyplot as plt\n",
    "from scipy.stats import ttest_ind\n",
    "%matplotlib inline"
   ]
  },
  {
   "cell_type": "code",
   "execution_count": 47,
   "metadata": {
    "collapsed": true
   },
   "outputs": [],
   "source": [
    "transactions = pd.read_csv('transactions.tsv', delimiter='\\t')"
   ]
  },
  {
   "cell_type": "markdown",
   "metadata": {},
   "source": [
    "# Q1\n",
    "The mean of the transactions dataset is "
   ]
  },
  {
   "cell_type": "code",
   "execution_count": 48,
   "metadata": {},
   "outputs": [
    {
     "data": {
      "text/plain": [
       "286.17605"
      ]
     },
     "execution_count": 48,
     "metadata": {},
     "output_type": "execute_result"
    }
   ],
   "source": [
    "np.mean(transactions['transaction.value'])"
   ]
  },
  {
   "cell_type": "markdown",
   "metadata": {},
   "source": [
    "whereas the median is"
   ]
  },
  {
   "cell_type": "code",
   "execution_count": 49,
   "metadata": {},
   "outputs": [
    {
     "data": {
      "text/plain": [
       "47.275000000000006"
      ]
     },
     "execution_count": 49,
     "metadata": {},
     "output_type": "execute_result"
    }
   ],
   "source": [
    "np.median(transactions['transaction.value'])"
   ]
  },
  {
   "cell_type": "markdown",
   "metadata": {},
   "source": [
    "There are 2 reasons for this difference. First there are a few very unusual large transactions which should be investigated:"
   ]
  },
  {
   "cell_type": "code",
   "execution_count": 50,
   "metadata": {},
   "outputs": [
    {
     "data": {
      "text/html": [
       "<div>\n",
       "<style scoped>\n",
       "    .dataframe tbody tr th:only-of-type {\n",
       "        vertical-align: middle;\n",
       "    }\n",
       "\n",
       "    .dataframe tbody tr th {\n",
       "        vertical-align: top;\n",
       "    }\n",
       "\n",
       "    .dataframe thead th {\n",
       "        text-align: right;\n",
       "    }\n",
       "</style>\n",
       "<table border=\"1\" class=\"dataframe\">\n",
       "  <thead>\n",
       "    <tr style=\"text-align: right;\">\n",
       "      <th></th>\n",
       "      <th>transaction.value</th>\n",
       "      <th>gender</th>\n",
       "      <th>store.type</th>\n",
       "    </tr>\n",
       "  </thead>\n",
       "  <tbody>\n",
       "    <tr>\n",
       "      <th>1428</th>\n",
       "      <td>150032.00</td>\n",
       "      <td>Female</td>\n",
       "      <td>Metro</td>\n",
       "    </tr>\n",
       "    <tr>\n",
       "      <th>50</th>\n",
       "      <td>100000.00</td>\n",
       "      <td>Female</td>\n",
       "      <td>Extra</td>\n",
       "    </tr>\n",
       "    <tr>\n",
       "      <th>1382</th>\n",
       "      <td>11840.25</td>\n",
       "      <td>Female</td>\n",
       "      <td>Extra</td>\n",
       "    </tr>\n",
       "    <tr>\n",
       "      <th>1375</th>\n",
       "      <td>3180.76</td>\n",
       "      <td>Male</td>\n",
       "      <td>Extra</td>\n",
       "    </tr>\n",
       "    <tr>\n",
       "      <th>667</th>\n",
       "      <td>2502.39</td>\n",
       "      <td>Female</td>\n",
       "      <td>Extra</td>\n",
       "    </tr>\n",
       "    <tr>\n",
       "      <th>675</th>\n",
       "      <td>2288.23</td>\n",
       "      <td>Male</td>\n",
       "      <td>Extra</td>\n",
       "    </tr>\n",
       "    <tr>\n",
       "      <th>1251</th>\n",
       "      <td>2174.41</td>\n",
       "      <td>Male</td>\n",
       "      <td>Extra</td>\n",
       "    </tr>\n",
       "    <tr>\n",
       "      <th>1284</th>\n",
       "      <td>1832.73</td>\n",
       "      <td>Female</td>\n",
       "      <td>Extra</td>\n",
       "    </tr>\n",
       "    <tr>\n",
       "      <th>481</th>\n",
       "      <td>1701.38</td>\n",
       "      <td>Female</td>\n",
       "      <td>Extra</td>\n",
       "    </tr>\n",
       "    <tr>\n",
       "      <th>1499</th>\n",
       "      <td>1615.51</td>\n",
       "      <td>Female</td>\n",
       "      <td>Extra</td>\n",
       "    </tr>\n",
       "  </tbody>\n",
       "</table>\n",
       "</div>"
      ],
      "text/plain": [
       "      transaction.value  gender store.type\n",
       "1428          150032.00  Female      Metro\n",
       "50            100000.00  Female      Extra\n",
       "1382           11840.25  Female      Extra\n",
       "1375            3180.76    Male      Extra\n",
       "667             2502.39  Female      Extra\n",
       "675             2288.23    Male      Extra\n",
       "1251            2174.41    Male      Extra\n",
       "1284            1832.73  Female      Extra\n",
       "481             1701.38  Female      Extra\n",
       "1499            1615.51  Female      Extra"
      ]
     },
     "execution_count": 50,
     "metadata": {},
     "output_type": "execute_result"
    }
   ],
   "source": [
    "transactions.nlargest(10,'transaction.value')"
   ]
  },
  {
   "cell_type": "markdown",
   "metadata": {},
   "source": [
    "Removing the 3 largest entries and plotting a histogram we see a typical Gamma-like skewed distribution which is the second reason for the difference in mean and median. "
   ]
  },
  {
   "cell_type": "code",
   "execution_count": 51,
   "metadata": {},
   "outputs": [
    {
     "data": {
      "text/plain": [
       "array([[<matplotlib.axes._subplots.AxesSubplot object at 0x1a1f9b5860>]],\n",
       "      dtype=object)"
      ]
     },
     "execution_count": 51,
     "metadata": {},
     "output_type": "execute_result"
    },
    {
     "data": {
      "image/png": "[encoded data removed]",
      "text/plain": [
       "<matplotlib.figure.Figure at 0x1a1f9c7080>"
      ]
     },
     "metadata": {},
     "output_type": "display_data"
    }
   ],
   "source": [
    "big_trans_ids = transactions.nlargest(3,'transaction.value').index\n",
    "transactions2 = transactions[~transactions.index.isin(big_trans_ids)]\n",
    "transactions2.hist(bins=50)"
   ]
  },
  {
   "cell_type": "markdown",
   "metadata": {},
   "source": [
    "Using a log plot on the x-axis we see that there are actually several peaks in the distribution with the main one being at 1.6 (which equates to £40 under log base 10) and several more peaks for larger values."
   ]
  },
  {
   "cell_type": "code",
   "execution_count": 52,
   "metadata": {},
   "outputs": [
    {
     "data": {
      "text/plain": [
       "<matplotlib.axes._subplots.AxesSubplot at 0x1a20059240>"
      ]
     },
     "execution_count": 52,
     "metadata": {},
     "output_type": "execute_result"
    },
    {
     "data": {
      "image/png": "[encoded data removed]",
      "text/plain": [
       "<matplotlib.figure.Figure at 0x1a1f9dddd8>"
      ]
     },
     "metadata": {},
     "output_type": "display_data"
    }
   ],
   "source": [
    "np.log10(transactions2['transaction.value']).hist(bins=50)"
   ]
  },
  {
   "cell_type": "markdown",
   "metadata": {},
   "source": [
    "# Q2\n",
    "To determine if there is a significant difference in the average spend we will assume that each transaction is an independent random variable drawn from some (unknown) probability distribution. We can then use the central limit theorem that any sum of independent random variables is approximated by a standard normal distribution. Given the sample mean and standard deviation of transaction value for each store type we can use a t-test on pairs of store type means to test for significant difference. Note: the 3 largest values have been removed from consideration as outliers that need to be investigated."
   ]
  },
  {
   "cell_type": "code",
   "execution_count": 53,
   "metadata": {},
   "outputs": [
    {
     "data": {
      "text/html": [
       "<div>\n",
       "<style scoped>\n",
       "    .dataframe tbody tr th:only-of-type {\n",
       "        vertical-align: middle;\n",
       "    }\n",
       "\n",
       "    .dataframe tbody tr th {\n",
       "        vertical-align: top;\n",
       "    }\n",
       "\n",
       "    .dataframe thead tr th {\n",
       "        text-align: left;\n",
       "    }\n",
       "\n",
       "    .dataframe thead tr:last-of-type th {\n",
       "        text-align: right;\n",
       "    }\n",
       "</style>\n",
       "<table border=\"1\" class=\"dataframe\">\n",
       "  <thead>\n",
       "    <tr>\n",
       "      <th></th>\n",
       "      <th colspan=\"2\" halign=\"left\">transaction.value</th>\n",
       "    </tr>\n",
       "    <tr>\n",
       "      <th></th>\n",
       "      <th>mean</th>\n",
       "      <th>std</th>\n",
       "    </tr>\n",
       "    <tr>\n",
       "      <th>store.type</th>\n",
       "      <th></th>\n",
       "      <th></th>\n",
       "    </tr>\n",
       "  </thead>\n",
       "  <tbody>\n",
       "    <tr>\n",
       "      <th>Express</th>\n",
       "      <td>86.349468</td>\n",
       "      <td>191.863120</td>\n",
       "    </tr>\n",
       "    <tr>\n",
       "      <th>Extra</th>\n",
       "      <td>256.231125</td>\n",
       "      <td>387.696657</td>\n",
       "    </tr>\n",
       "    <tr>\n",
       "      <th>Metro</th>\n",
       "      <td>113.176605</td>\n",
       "      <td>218.942121</td>\n",
       "    </tr>\n",
       "    <tr>\n",
       "      <th>Superstore</th>\n",
       "      <td>155.166490</td>\n",
       "      <td>215.615642</td>\n",
       "    </tr>\n",
       "  </tbody>\n",
       "</table>\n",
       "</div>"
      ],
      "text/plain": [
       "           transaction.value            \n",
       "                        mean         std\n",
       "store.type                              \n",
       "Express            86.349468  191.863120\n",
       "Extra             256.231125  387.696657\n",
       "Metro             113.176605  218.942121\n",
       "Superstore        155.166490  215.615642"
      ]
     },
     "execution_count": 53,
     "metadata": {},
     "output_type": "execute_result"
    }
   ],
   "source": [
    "transactions2.groupby('store.type').agg(['mean','std'])"
   ]
  },
  {
   "cell_type": "markdown",
   "metadata": {},
   "source": [
    "We can use the scipy t-test ```ttest_ind(...)``` to perform a 2-sided t-test for each of the pairs of store types. The results below indicate using 5% (and even a 1%) level there are significant differences in average spend across all store types aparat from Express and Metro."
   ]
  },
  {
   "cell_type": "code",
   "execution_count": 54,
   "metadata": {},
   "outputs": [
    {
     "data": {
      "text/html": [
       "<div>\n",
       "<style scoped>\n",
       "    .dataframe tbody tr th:only-of-type {\n",
       "        vertical-align: middle;\n",
       "    }\n",
       "\n",
       "    .dataframe tbody tr th {\n",
       "        vertical-align: top;\n",
       "    }\n",
       "\n",
       "    .dataframe thead th {\n",
       "        text-align: right;\n",
       "    }\n",
       "</style>\n",
       "<table border=\"1\" class=\"dataframe\">\n",
       "  <thead>\n",
       "    <tr style=\"text-align: right;\">\n",
       "      <th></th>\n",
       "      <th>Pairs</th>\n",
       "      <th>p-value</th>\n",
       "    </tr>\n",
       "  </thead>\n",
       "  <tbody>\n",
       "    <tr>\n",
       "      <th>0</th>\n",
       "      <td>express-metro</td>\n",
       "      <td>8.742951e-02</td>\n",
       "    </tr>\n",
       "    <tr>\n",
       "      <th>1</th>\n",
       "      <td>express-superstore</td>\n",
       "      <td>2.224495e-06</td>\n",
       "    </tr>\n",
       "    <tr>\n",
       "      <th>2</th>\n",
       "      <td>express-extra</td>\n",
       "      <td>2.382553e-11</td>\n",
       "    </tr>\n",
       "    <tr>\n",
       "      <th>3</th>\n",
       "      <td>metro-superstore</td>\n",
       "      <td>7.213495e-04</td>\n",
       "    </tr>\n",
       "    <tr>\n",
       "      <th>4</th>\n",
       "      <td>metro-extra</td>\n",
       "      <td>9.507566e-12</td>\n",
       "    </tr>\n",
       "    <tr>\n",
       "      <th>5</th>\n",
       "      <td>superstore-extra</td>\n",
       "      <td>5.935764e-09</td>\n",
       "    </tr>\n",
       "  </tbody>\n",
       "</table>\n",
       "</div>"
      ],
      "text/plain": [
       "                Pairs       p-value\n",
       "0       express-metro  8.742951e-02\n",
       "1  express-superstore  2.224495e-06\n",
       "2       express-extra  2.382553e-11\n",
       "3    metro-superstore  7.213495e-04\n",
       "4         metro-extra  9.507566e-12\n",
       "5    superstore-extra  5.935764e-09"
      ]
     },
     "execution_count": 54,
     "metadata": {},
     "output_type": "execute_result"
    }
   ],
   "source": [
    "express    = transactions2[transactions2['store.type'] == 'Express']['transaction.value']\n",
    "metro      = transactions2[transactions2['store.type'] == 'Metro']['transaction.value']\n",
    "superstore = transactions2[transactions2['store.type'] == 'Superstore']['transaction.value']\n",
    "extra      = transactions2[transactions2['store.type'] == 'Extra']['transaction.value']\n",
    "pd.DataFrame({'Pairs': ['express-metro', 'express-superstore', \n",
    "                        'express-extra', 'metro-superstore', \n",
    "                        'metro-extra',   'superstore-extra'],\n",
    "              'p-value': [ttest_ind(express, metro)[1], ttest_ind(express, superstore)[1],\n",
    "                          ttest_ind(express, extra)[1], ttest_ind(metro, superstore)[1],\n",
    "                          ttest_ind(metro, extra)[1], ttest_ind(superstore, extra)[1]]\n",
    "             })"
   ]
  },
  {
   "cell_type": "markdown",
   "metadata": {},
   "source": [
    "Methodological note: comparing several sets of variables like this using a standard t-test can be problematic as the t-values ought to be adjusted e.g. using Bonferroni method. However given the magnitudes of the the p-values we wouldn't get a different outcome."
   ]
  },
  {
   "cell_type": "markdown",
   "metadata": {},
   "source": [
    "# Q3\n",
    "The key issue with this type of problem is the highly imbalanced dataset. Very few people click on the content, in the case of content_1 ~1%"
   ]
  },
  {
   "cell_type": "code",
   "execution_count": 55,
   "metadata": {},
   "outputs": [
    {
     "data": {
      "text/plain": [
       "content_1\n",
       "0.0    45520\n",
       "1.0      502\n",
       "Name: customer.id, dtype: int64"
      ]
     },
     "execution_count": 55,
     "metadata": {},
     "output_type": "execute_result"
    }
   ],
   "source": [
    "train = pd.read_csv('content_train.tsv', delimiter='\\t')\n",
    "test = pd.read_csv('content_test.tsv',  delimiter='\\t')\n",
    "train_content1 = train[~train['content_1'].isnull()]\n",
    "train_content1.groupby('content_1').count()['customer.id']"
   ]
  },
  {
   "cell_type": "markdown",
   "metadata": {},
   "source": [
    "To approach the problem we will use a Random Forest classifier, split the data randomly 80:20, train on the 80% and valiate the approach on 20%. The resulting model is then used to predict on the test data. There are a number of different metrics that can be used to measure performance on models for an unbalanced dataset, a commonly used one is Receiver Operating Characterstic (ROC)."
   ]
  },
  {
   "cell_type": "code",
   "execution_count": 56,
   "metadata": {},
   "outputs": [
    {
     "data": {
      "text/plain": [
       "RandomForestClassifier(bootstrap=True, class_weight={0.0: 99, 1.0: 1},\n",
       "            criterion='gini', max_depth=4, max_features='auto',\n",
       "            max_leaf_nodes=None, min_impurity_decrease=0.0,\n",
       "            min_impurity_split=None, min_samples_leaf=1,\n",
       "            min_samples_split=2, min_weight_fraction_leaf=0.0,\n",
       "            n_estimators=100, n_jobs=1, oob_score=False, random_state=None,\n",
       "            verbose=0, warm_start=False)"
      ]
     },
     "execution_count": 56,
     "metadata": {},
     "output_type": "execute_result"
    }
   ],
   "source": [
    "clf = RandomForestClassifier(n_estimators=100,max_depth=4, class_weight={0.0: 99, 1.0: 1})\n",
    "clf"
   ]
  },
  {
   "cell_type": "code",
   "execution_count": 57,
   "metadata": {
    "collapsed": true
   },
   "outputs": [],
   "source": [
    "# calculate 'dummy' variables for gender, affluence and country across train and test\n",
    "test['content_1'] = 1.0 # need same columns for the next line\n",
    "data = pd.concat([train_content1, test], sort=True)\n",
    "data = pd.get_dummies(data)\n",
    "train_content1 = data[:len(train_content1)]\n",
    "test           = data[len(train_content1):]\n",
    "train_train_content1, val_train_content1 = train_test_split(train_content1, test_size=0.2)"
   ]
  },
  {
   "cell_type": "code",
   "execution_count": 58,
   "metadata": {},
   "outputs": [
    {
     "data": {
      "image/png": "[encoded data removed]",
      "text/plain": [
       "<matplotlib.figure.Figure at 0x11a34cfd0>"
      ]
     },
     "metadata": {},
     "output_type": "display_data"
    }
   ],
   "source": [
    "X_cols = train_train_content1.columns[10:]\n",
    "y = train_train_content1['content_1']\n",
    "X = train_train_content1[X_cols]\n",
    "y_val = val_train_content1['content_1']\n",
    "X_val = val_train_content1[X_cols]\n",
    "X_test = test[X_cols]\n",
    "clf.fit(X,y)\n",
    "y_pred = clf.predict_proba(X_val)[:,1]\n",
    "\n",
    "fpr, tpr, thresholds = roc_curve(y_val, y_pred)\n",
    "thresholds\n",
    "\n",
    "plt.figure()\n",
    "lw = 2\n",
    "plt.plot(fpr, tpr, color='darkorange',\n",
    "         lw=lw, label='ROC curve (area = %0.2f)' % auc(fpr, tpr))\n",
    "plt.plot([0, 1], [0, 1], color='navy', lw=lw, linestyle='--')\n",
    "plt.xlim([0.0, 1.0])\n",
    "plt.ylim([0.0, 1.05])\n",
    "plt.xlabel('False Positive Rate')\n",
    "plt.ylabel('True Positive Rate')\n",
    "plt.title('Receiver operating characteristic example')\n",
    "plt.legend(loc=\"lower right\")\n",
    "plt.show()"
   ]
  },
  {
   "cell_type": "code",
   "execution_count": 59,
   "metadata": {
    "collapsed": true
   },
   "outputs": [],
   "source": [
    "test_pred = clf.predict_proba(X_test)[:,1]\n",
    "customer_id = test['customer.id']\n",
    "preds = pd.DataFrame({'customer.id': customer_id, 'prediction': test_pred})\n",
    "preds.to_csv('content_1_predictions.csv')"
   ]
  },
  {
   "cell_type": "markdown",
   "metadata": {},
   "source": [
    "# Q4\n",
    "A system to determine what content to show a user could use a real-time predictive model using, for example, Random Forests.\n",
    "\n",
    "### Training\n",
    "*Assumption: Labelled historical production data is available to an Apache Spark system*\n",
    "    \n",
    "Using Apache Spark MLLib train a number of Random Forest (RF) models on the historical data to predict each of the different content interaction labels. Export the models as PMML (Predictive Model Markup Language).\n",
    "\n",
    "### Real-time model scoring\n",
    "Model scoring is run as a REST-based service e.g. [openscoring](https://github.com/openscoring/openscoring). The RF models are uploaded to the open scoring service using provided APIs. At runtime scoring is performed by a REST call to the openscoring service. Performance of the model is monitored via the openscoring metrics API.\n",
    "\n",
    "Multipe openscoring instances fronted by a load-balancer can be used to provide resilience and scaling.\n",
    "\n",
    "### Model updating\n",
    "Blue-green updating of the model can be supported by versioning the model using openscoring APIs and building support for calling different model versions into the REST calling code. When a new version of the model is being trialled both the current and new version can be evaluated and the results compared off-line by data scientists. When the performance of the new model is judged to be satisfactory the old model can be retired."
   ]
  }
 ],
 "metadata": {
  "kernelspec": {
   "display_name": "Python 3",
   "language": "python",
   "name": "python3"
  },
  "language_info": {
   "codemirror_mode": {
    "name": "ipython",
    "version": 3
   },
   "file_extension": ".py",
   "mimetype": "text/x-python",
   "name": "python",
   "nbconvert_exporter": "python",
   "pygments_lexer": "ipython3",
   "version": "3.6.3"
  }
 },
 "nbformat": 4,
 "nbformat_minor": 2
}
